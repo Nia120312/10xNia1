{
 "cells": [
  {
   "cell_type": "code",
   "execution_count": 1,
   "id": "f70b0c76",
   "metadata": {
    "scrolled": true
   },
   "outputs": [
    {
     "name": "stdout",
     "output_type": "stream",
     "text": [
      "Enter Initial Speedno\n"
     ]
    },
    {
     "ename": "ValueError",
     "evalue": "could not convert string to float: 'no'",
     "output_type": "error",
     "traceback": [
      "\u001b[1;31m---------------------------------------------------------------------------\u001b[0m",
      "\u001b[1;31mValueError\u001b[0m                                Traceback (most recent call last)",
      "Cell \u001b[1;32mIn[1], line 1\u001b[0m\n\u001b[1;32m----> 1\u001b[0m initial_speed \u001b[38;5;241m=\u001b[39m \u001b[38;5;28mfloat\u001b[39m(\u001b[38;5;28minput\u001b[39m(\u001b[38;5;124m\"\u001b[39m\u001b[38;5;124mEnter Initial Speed\u001b[39m\u001b[38;5;124m\"\u001b[39m))\n\u001b[0;32m      2\u001b[0m acceleration \u001b[38;5;241m=\u001b[39m \u001b[38;5;28mfloat\u001b[39m(\u001b[38;5;28minput\u001b[39m(\u001b[38;5;124m\"\u001b[39m\u001b[38;5;124mEnter Acceleration\u001b[39m\u001b[38;5;124m\"\u001b[39m))\n\u001b[0;32m      3\u001b[0m time \u001b[38;5;241m=\u001b[39m \u001b[38;5;28mfloat\u001b[39m(\u001b[38;5;28minput\u001b[39m(\u001b[38;5;124m\"\u001b[39m\u001b[38;5;124mEnter time of flight\u001b[39m\u001b[38;5;124m\"\u001b[39m))\n",
      "\u001b[1;31mValueError\u001b[0m: could not convert string to float: 'no'"
     ]
    }
   ],
   "source": [
    "initial_speed = float(input(\"Enter Initial Speed\"))\n",
    "acceleration = float(input(\"Enter Acceleration\"))\n",
    "time = float(input(\"Enter time of flight\"))\n",
    "final_speed = initial_speed + (acceleration * time)\n",
    "print(\"Iron Man's final flight speed is:\", final_speed )\n",
    "      "
   ]
  },
  {
   "cell_type": "code",
   "execution_count": 7,
   "id": "f519b421",
   "metadata": {},
   "outputs": [
    {
     "name": "stdout",
     "output_type": "stream",
     "text": [
      "Enter the base repulsor power(kW):85\n",
      "Enter the charge percentage(0-100%): 25\n",
      "Iron Man's repulsor blast power is 21.25 kW.\n"
     ]
    }
   ],
   "source": [
    "base_power = float(input(\"Enter the base repulsor power(kW):\"))\n",
    "charge_percent = float(input(\"Enter the charge percentage(0-100%): \"))\n",
    "\n",
    "actual_power = base_power * (charge_percent / 100)\n",
    "print(f\"Iron Man's repulsor blast power is {actual_power} kW.\")\n"
   ]
  },
  {
   "cell_type": "code",
   "execution_count": 13,
   "id": "95ca85ae",
   "metadata": {},
   "outputs": [
    {
     "name": "stdout",
     "output_type": "stream",
     "text": [
      "Enter Length of Rectangle 6\n",
      "Enter Breadth of Rectangle 2\n",
      "THE AREA OF THE RECTANGLE IS 12.0\n"
     ]
    }
   ],
   "source": [
    "length = float(input(\"Enter Length of Rectangle \"))\n",
    "breadth = float(input(\"Enter Breadth of Rectangle \"))\n",
    "area = length * breadth\n",
    "print(f\"THE AREA OF THE RECTANGLE IS {area}\")"
   ]
  },
  {
   "cell_type": "code",
   "execution_count": 4,
   "id": "1d8a3aa4",
   "metadata": {
    "scrolled": true
   },
   "outputs": [
    {
     "name": "stdout",
     "output_type": "stream",
     "text": [
      "['Repulsors', 'Unibeam', 'Missiles', 'Lasers']\n",
      "['The Avengers', 'Start Industries', 'S.H.I.E.L.D']\n",
      "The Avengers\n",
      "['Mandarin', 'Whiplash', 'Obadiah Stane', 'Cristiano Ronaldo', 'John Cena']\n",
      "['Mandarin', 'Whiplash', 'Obadiah Stane', 'Cristiano Ronaldo', 'John Cena', 'John Cena']\n",
      "['Mandarin', 'Whiplash', 'Obadiah Stane', 'Cristiano Ronaldo', 'John Cena', 'John Cena', 'MARSHAMALLOW']\n",
      "['Arc Reactor', 'Himself', 'J.A.R.V.I.S', 'F.R.I.D.A.Y', 'Ultron']\n",
      "2\n"
     ]
    }
   ],
   "source": [
    "KILLING_MACHINES = [\"Repulsors\", \"Unibeam\", \"Missiles\", \"Lasers\"]\n",
    "print(KILLING_MACHINES)\n",
    "PLACES_HE_HATED_DOING_STUFF_AT = [\"The Avengers\", \"Start Industries\", \"S.H.I.E.L.D\"]\n",
    "print(PLACES_HE_HATED_DOING_STUFF_AT)\n",
    "print(PLACES_HE_HATED_DOING_STUFF_AT[0])\n",
    "PEOPLE_IRONMAN_WANTS_DEAD = [\"Mandarin\", \"Whiplash\", \"Obadiah Stane\", \"Cristiano Ronaldo\", \"John Cena\"]\n",
    "print(PEOPLE_IRONMAN_WANTS_DEAD)\n",
    "PEOPLE_IRONMAN_WANTS_DEAD.append(\"John Cena\")\n",
    "print(PEOPLE_IRONMAN_WANTS_DEAD)\n",
    "PEOPLE_IRONMAN_WANTS_DEAD.append(\"MARSHAMALLOW\")\n",
    "print(PEOPLE_IRONMAN_WANTS_DEAD)\n",
    "RANDOM_STUFF_HE_CREATED = [\"Arc Reactor\", \"Himself\", \"J.A.R.V.I.S\", \"F.R.I.D.A.Y\", \"Ultron\"]\n",
    "print(RANDOM_STUFF_HE_CREATED)\n",
    "print(RANDOM_STUFF_HE_CREATED.index(\"J.A.R.V.I.S\"))"
   ]
  },
  {
   "cell_type": "markdown",
   "id": "d0efe170",
   "metadata": {},
   "source": [
    "Write a program that prompts the user to enter a day number(1 for monday, 2 for tuesday etc.) and then prints the corresponding day of rhe week. Use if-elif-else statements to achieve this"
   ]
  },
  {
   "cell_type": "code",
   "execution_count": 2,
   "id": "605b6a50",
   "metadata": {
    "scrolled": false
   },
   "outputs": [
    {
     "name": "stdout",
     "output_type": "stream",
     "text": [
      "Enter the day number: 4\n",
      "Thursday\n"
     ]
    }
   ],
   "source": [
    "day= int(input(\"Enter the day number: \"))\n",
    "if day == 1:\n",
    "    print(\"Monday\")\n",
    "elif day == 2:\n",
    "    print(\"Tuesday\")\n",
    "elif day == 3:\n",
    "    print(\"Wednesday\")\n",
    "elif day == 4:\n",
    "    print(\"Thursday\")\n",
    "elif day == 5:\n",
    "    print(\"Friday\")\n",
    "elif day == 6:\n",
    "    print(\"Saturday\")\n",
    "elif day == 7:\n",
    "    print(\"Sunday\")\n",
    "else:\n",
    "    print(\"You dumb\")\n"
   ]
  },
  {
   "cell_type": "markdown",
   "id": "fefd39c9",
   "metadata": {},
   "source": [
    "Weekdays using list"
   ]
  },
  {
   "cell_type": "code",
   "execution_count": 3,
   "id": "70cf06f6",
   "metadata": {
    "scrolled": false
   },
   "outputs": [
    {
     "name": "stdout",
     "output_type": "stream",
     "text": [
      "Enter the day number: 4\n",
      "Thursday\n"
     ]
    }
   ],
   "source": [
    "Weekdays = [\"Monday\",\"Tuesday\",\"Wednesday\",\"Thursday\",\"Friday\",\"Saturday\",\"Sunday\"]\n",
    "day= int(input(\"Enter the day number: \"))\n",
    "print(Weekdays[day-1])\n"
   ]
  },
  {
   "cell_type": "markdown",
   "id": "d68d37dd",
   "metadata": {},
   "source": [
    "children under 12 = $5\n",
    "adults(15-64) = $10\n",
    "senior(65 and older) = $7\n",
    "design program for movie theater that calculates ticket price for each age"
   ]
  },
  {
   "cell_type": "code",
   "execution_count": null,
   "id": "a5b32b5e",
   "metadata": {},
   "outputs": [],
   "source": [
    "age = float(input(\"Enter your age: \"))\n",
    "if age < 12:\n",
    "    print(\"Ticket price is: $5\")\n",
    "elif age >= 12 and age <= 64:\n",
    "    print(\"Ticket price is: $10\")\n",
    "elif age >= 65:\n",
    "    print(\"Ticket price is: $7\")"
   ]
  },
  {
   "cell_type": "raw",
   "id": "580073b9",
   "metadata": {},
   "source": [
    "create a program that checks if a letter if a vowel \n",
    "use else, if, elif"
   ]
  },
  {
   "cell_type": "code",
   "execution_count": 17,
   "id": "d2caa2d6",
   "metadata": {
    "scrolled": true
   },
   "outputs": [
    {
     "name": "stdout",
     "output_type": "stream",
     "text": [
      "Enter your letter a p\n",
      "This letter is a consonant\n"
     ]
    }
   ],
   "source": [
    "letter = str(input(\"Enter your letter \"))\n",
    "if (letter.lower() == \"a\") or (letter.lower() == \"e\") or (letter.lower() == \"i\") or (letter.lower() == \"o\") or (letter.lower() == \"u\"):\n",
    "    print(\"This letter is a vowel\")\n",
    "else:\n",
    "    print(\"This letter is a consonant\" )\n"
   ]
  },
  {
   "cell_type": "code",
   "execution_count": null,
   "id": "126d0c01",
   "metadata": {},
   "outputs": [],
   "source": []
  },
  {
   "cell_type": "code",
   "execution_count": 13,
   "id": "3832c369",
   "metadata": {},
   "outputs": [
    {
     "name": "stdout",
     "output_type": "stream",
     "text": [
      "Enter the no. of elements you want: 3\n",
      "Enter a value: 2\n",
      "Enter a value: 6\n",
      "Enter a value: 11\n",
      "The min amount in you list is 2 .The max amount in your list is 11 .\n"
     ]
    }
   ],
   "source": [
    "integer=int(input(\"Enter the no. of elements you want: \"))\n",
    "integer_list=[]\n",
    "if integer>0:\n",
    "    while integer>0:\n",
    "        integer_list.append (int(input(\"Enter a value: \")))\n",
    "        integer-=1\n",
    "else:\n",
    "    print(\"The amount of data inserted in invalid\")\n",
    "    print(\"Try again\")\n",
    "    \n",
    "print(\"The min amount in you list is\",min(integer_list),\".\" \"The max amount in your list is\",max(integer_list),\".\")      "
   ]
  },
  {
   "cell_type": "code",
   "execution_count": 2,
   "id": "29524e62",
   "metadata": {
    "scrolled": false
   },
   "outputs": [
    {
     "name": "stdout",
     "output_type": "stream",
     "text": [
      "Would you like to input your own movie and rate it? yes or no: no\n"
     ]
    }
   ],
   "source": [
    "\n",
    "response=input(\"Would you like to input your own movie and rate it? \" \"yes or no: \")\n",
    "if response==\"yes\":\n",
    "    movie_input=input(\"Please input your movie name: \")\n",
    "    print(movie_input)\n",
    "    rating=input(\"Please rate your movie from 1-5: \")\n",
    "    print(\"The rating for movie \", movie_input,\"is \", rating)\n",
    "    movies={\"Shrek\":2,\"Moon god\":3,\"Mamamoo\":5, \"John Cena\":4}\n",
    "    #movies.append(movie_input)\n",
    "    movies[movie_input]=rating\n",
    "    print(movies)\n",
    "    "
   ]
  },
  {
   "cell_type": "code",
   "execution_count": 112,
   "id": "fdcec9ef",
   "metadata": {},
   "outputs": [
    {
     "name": "stdout",
     "output_type": "stream",
     "text": [
      "Mamamoo\n"
     ]
    }
   ],
   "source": [
    " movies={\"Shrek\":2,\"Moon god\":3,\"Mamamoo\":5, \"John Cena\":4}\n",
    "max_rate=max(movies, key=movies.get)\n",
    "print(max_rate)"
   ]
  },
  {
   "cell_type": "code",
   "execution_count": 16,
   "id": "5715c036",
   "metadata": {
    "scrolled": true
   },
   "outputs": [
    {
     "name": "stdout",
     "output_type": "stream",
     "text": [
      "Pls input a number: 6\n",
      "This is an even number.\n"
     ]
    }
   ],
   "source": [
    "number=int(input(\"Pls input a number: \"))\n",
    "if number%2==0:\n",
    "    print(\"This is an even number.\")\n",
    "else:\n",
    "    print(\"This is an odd number.\")\n"
   ]
  },
  {
   "cell_type": "raw",
   "id": "793bc216",
   "metadata": {},
   "source": [
    "\n"
   ]
  },
  {
   "cell_type": "code",
   "execution_count": 2,
   "id": "3e73a2d6",
   "metadata": {
    "scrolled": true
   },
   "outputs": [
    {
     "name": "stdout",
     "output_type": "stream",
     "text": [
      "Enter the name of the month of the year: February\n",
      "The number of days in  February is 28\n"
     ]
    }
   ],
   "source": [
    "\n",
    "month = { \"January\" : 31 , \"February\" : 28 , \"March\" : 31 , \"April\" : 30 , \"May\" : 31 , \"June\" : 30 , \"July\" : 31 , \"August\" : 31 , \"September\" : 30 , \"October\" : 31 , \"November\" : 30 , \"December\" : 31}\n",
    "month_input = input(\"Enter the name of the month of the year: \")\n",
    "print(\"The number of days in \",month_input,\"is\",month [ month_input ])"
   ]
  },
  {
   "cell_type": "markdown",
   "id": "543d38f3",
   "metadata": {},
   "source": [
    "numpy = numerical python.  pandas = will make table like structures from data given(dataframe=veryimp). matplot = use to make pie chart and bar graph(for visualisation)."
   ]
  },
  {
   "cell_type": "code",
   "execution_count": null,
   "id": "793185f3",
   "metadata": {},
   "outputs": [],
   "source": [
    "import math\n",
    "\n",
    "\n",
    "result = math.sqrt(25)\n",
    "print(result)\n",
    "\n",
    "#sqrt is used for square root."
   ]
  },
  {
   "cell_type": "code",
   "execution_count": 9,
   "id": "4b4d5e38",
   "metadata": {
    "scrolled": true
   },
   "outputs": [
    {
     "name": "stdout",
     "output_type": "stream",
     "text": [
      "25\n"
     ]
    }
   ],
   "source": [
    "import random \n",
    "\n",
    "random_number = random.randint(1, 100)\n",
    "print(random_number)\n",
    "\n",
    "#randint means random integer"
   ]
  },
  {
   "cell_type": "code",
   "execution_count": 11,
   "id": "7499513d",
   "metadata": {},
   "outputs": [
    {
     "name": "stdout",
     "output_type": "stream",
     "text": [
      "Calibrated Repulsor Range:  [200 180 220 190]\n",
      "Power Range:  40\n"
     ]
    }
   ],
   "source": [
    "import numpy as np\n",
    "\n",
    "#as np is nickname\n",
    "\n",
    "repulsor_power = np.array([200, 180, 220, 190])\n",
    "#array is a series(looks like a list)\n",
    "\n",
    "#calculate the power range\n",
    "power_range = np.max(repulsor_power) - np.min(repulsor_power)\n",
    "print(\"Calibrated Repulsor Range: \", repulsor_power)\n",
    "print(\"Power Range: \", power_range)\n"
   ]
  },
  {
   "cell_type": "code",
   "execution_count": null,
   "id": "faac14b6",
   "metadata": {},
   "outputs": [],
   "source": [
    " import numpy as np\n",
    "    \n",
    "\n",
    "#example data for iron man armor suits and power levels\n",
    "suits = np.array([\"Mark I\", \"Mark II\", \"Mark III\", \"Mark IV\", \"Mark Special John Cena\"])\n"
   ]
  },
  {
   "cell_type": "code",
   "execution_count": 12,
   "id": "bc4a5752",
   "metadata": {},
   "outputs": [
    {
     "name": "stdout",
     "output_type": "stream",
     "text": [
      "Total Energy Consumption:  216\n",
      "Average Daily Energy Consumption:  43.2\n"
     ]
    }
   ],
   "source": [
    "import numpy as john_cena\n",
    "\n",
    "friday_energy = john_cena.array([30, 21, 55, 10, 100])\n",
    "\n",
    "#calculate total energy consumption\n",
    "total_energy = john_cena.sum(friday_energy)\n",
    "\n",
    "#calculate averagw daily energy consumption\n",
    "average_daily_energy = john_cena.mean(friday_energy)\n",
    "\n",
    "print(\"Total Energy Consumption: \", total_energy)\n",
    "print(\"Average Daily Energy Consumption: \", average_daily_energy)\n"
   ]
  },
  {
   "cell_type": "code",
   "execution_count": 8,
   "id": "a67fe5c7",
   "metadata": {},
   "outputs": [
    {
     "name": "stdout",
     "output_type": "stream",
     "text": [
      "            Name              Work          Abilities\n",
      "0     Tony Stark          Avengers    Genius Inventor\n",
      "1   Pepper Potts  Stark Industries       Intelligence\n",
      "2   James Rhodes          Avengers          Supersuit\n",
      "3  Natasha Stark       S.H.I.E.L.D     Strategic Mind\n",
      "4      Nick Fury       S.H.I.E.L.D              AnGeR\n",
      "5      John Cena               WWE  KiNg Of ThE wOrLd\n",
      "S.H.I.E.L.D Affiliated Characters:\n",
      "            Name         Work       Abilities\n",
      "3  Natasha Stark  S.H.I.E.L.D  Strategic Mind\n",
      "4      Nick Fury  S.H.I.E.L.D           AnGeR\n",
      "Avengers Affiliated Characters:\n",
      "           Name      Work        Abilities\n",
      "0    Tony Stark  Avengers  Genius Inventor\n",
      "2  James Rhodes  Avengers        Supersuit\n",
      "WWE Affiliated Characters:\n",
      "        Name Work          Abilities\n",
      "5  John Cena  WWE  KiNg Of ThE wOrLd\n",
      "Stark Industries Affiliated Characters:\n",
      "           Name              Work     Abilities\n",
      "1  Pepper Potts  Stark Industries  Intelligence\n"
     ]
    }
   ],
   "source": [
    "import pandas as john_stark\n",
    "\n",
    "data = {\n",
    "    'Name': ['Tony Stark', 'Pepper Potts', 'James Rhodes', 'Natasha Stark', 'Nick Fury', 'John Cena'],\n",
    "    'Work': ['Avengers', 'Stark Industries', 'Avengers', 'S.H.I.E.L.D', 'S.H.I.E.L.D', 'WWE'],\n",
    "    'Abilities': ['Genius Inventor', 'Intelligence', 'Supersuit', 'Strategic Mind', 'AnGeR', 'KiNg Of ThE wOrLd']\n",
    "}\n",
    "\n",
    "#creat a dataframe\n",
    "df = john_stark.DataFrame(data)\n",
    "print(df)\n",
    "#filter to find shield affiliated characters\n",
    "shield_characters = df[df['Work']== 'S.H.I.E.L.D']\n",
    "\n",
    "print(\"S.H.I.E.L.D Affiliated Characters:\")\n",
    "print(shield_characters)\n",
    "    \n",
    "avengers_characters = df[df['Work']== 'Avengers']\n",
    "\n",
    "print(\"Avengers Affiliated Characters:\")\n",
    "print(avengers_characters)\n",
    "\n",
    "wwe_characters = df[df['Work']== 'WWE']\n",
    "\n",
    "print('WWE Affiliated Characters:')\n",
    "print(wwe_characters)\n",
    "\n",
    "stark_industries = df[df['Work']== 'Stark Industries']\n",
    "\n",
    "print('Stark Industries Affiliated Characters:')\n",
    "print(stark_industries)\n",
    "\n"
   ]
  },
  {
   "cell_type": "markdown",
   "id": "3d5b78b5",
   "metadata": {},
   "source": [
    "matplot"
   ]
  },
  {
   "cell_type": "code",
   "execution_count": 1,
   "id": "2f085de1",
   "metadata": {
    "scrolled": false
   },
   "outputs": [
    {
     "data": {
      "text/plain": [
       "Text(0.5, 1.0, 'Types of Missions')"
      ]
     },
     "execution_count": 1,
     "metadata": {},
     "output_type": "execute_result"
    },
    {
     "data": {
      "image/png": "[encoded data removed]",
      "text/plain": [
       "<Figure size 800x500 with 1 Axes>"
      ]
     },
     "metadata": {},
     "output_type": "display_data"
    },
    {
     "data": {
      "image/png": "[encoded data removed]",
      "text/plain": [
       "<Figure size 600x600 with 1 Axes>"
      ]
     },
     "metadata": {},
     "output_type": "display_data"
    }
   ],
   "source": [
    "import matplotlib.pyplot as plt\n",
    "\n",
    "#adventure data\n",
    "adventures = [\"Battle of New York\", \"Rescue Mission\", \"Infiltration\", \"Defeating John Cena V52.01\"]\n",
    "success_rate = [90, 75, 80, 0]       #success rates for each mission\n",
    "\n",
    "#create a line plot\n",
    "plt.figure(figsize=(8, 5))\n",
    "plt.plot(adventures, success_rate, marker='o', linestyle='-', color='red')\n",
    "plt.title(\"Iron Man's Journey\")\n",
    "plt.xlabel(\"Adventures\")\n",
    "plt.ylabel(\"Success Rate (%)\")\n",
    "plt.xticks(rotation=45)\n",
    "plt.grid(True)\n",
    "\n",
    "\n",
    "#pie chart\n",
    "labels = adventures\n",
    "plt.figure(figsize=(6, 6))\n",
    "plt.pie(success_rate, labels=labels, autopct='%1.1f%%', startangle=(140))\n",
    "plt.title(\"Types of Missions\")"
   ]
  },
  {
   "cell_type": "code",
   "execution_count": 3,
   "id": "0a6e12ef",
   "metadata": {},
   "outputs": [
    {
     "name": "stdout",
     "output_type": "stream",
     "text": [
      "Enter your marks: 78\n",
      "Your Grade is C\n"
     ]
    }
   ],
   "source": [
    "Marks = float(input(\"Enter your marks: \"))\n",
    "if Marks >= 90 and Marks <= 100:\n",
    "    print(\"Your Grade is A\")\n",
    "elif Marks >= 80 and Marks <= 89:\n",
    "    print(\"Your grade is B\")\n",
    "elif Marks >= 70 and Marks <= 79:\n",
    "    print(\"Your Grade is C\")\n",
    "elif Marks >= 60 and Marks <= 69:\n",
    "    print(\"Your Grade is D\")\n",
    "elif Marks < 60:\n",
    "    print(\"Your Grade is F\")\n",
    "\n",
    "''"
   ]
  },
  {
   "cell_type": "code",
   "execution_count": 12,
   "id": "e6e30bc3",
   "metadata": {
    "scrolled": true
   },
   "outputs": [
    {
     "name": "stdout",
     "output_type": "stream",
     "text": [
      "Pls Enter your Number: 6\n",
      "1 \n",
      "1 2 \n",
      "1 2 3 \n",
      "1 2 3 4 \n",
      "1 2 3 4 5 \n",
      "1 2 3 4 5 6 \n"
     ]
    }
   ],
   "source": [
    "n=int(input(\"Pls Enter your Number: \"))\n",
    "for i in range(1,n+1):\n",
    "    for j in range(1, i + 1):\n",
    "            print(j, end=\" \")\n",
    "    print()\n",
    "      "
   ]
  },
  {
   "cell_type": "code",
   "execution_count": 2,
   "id": "054cd46a",
   "metadata": {
    "scrolled": true
   },
   "outputs": [
    {
     "name": "stdout",
     "output_type": "stream",
     "text": [
      "The sum of all even numbers from 1 to 100 is: 2550\n"
     ]
    }
   ],
   "source": [
    "sum = 0\n",
    "for i in range(1, 101):\n",
    "    if i % 2 == 0:\n",
    "        sum += i\n",
    "print(\"The sum of all even numbers from 1 to 100 is:\", sum)"
   ]
  },
  {
   "cell_type": "code",
   "execution_count": 6,
   "id": "f31dc842",
   "metadata": {
    "scrolled": false
   },
   "outputs": [
    {
     "name": "stdout",
     "output_type": "stream",
     "text": [
      "              Titles  Year  Ratings  Box Office\n",
      "0                Leo  2023      7.0   432500000\n",
      "1  The Polar Express  2004      6.6   314000000\n",
      "2         The Grinch  2018      6.4   526760000\n",
      "3          Elemental  2023      7.0   154000000\n",
      "All box office earnings sum is  1427260000\n",
      "The Highest Rated movie is  7.0\n"
     ]
    }
   ],
   "source": [
    "import pandas as pd\n",
    "x=1\n",
    "df={\"Titles\": [\"Leo\", \"The Polar Express\", \"The Grinch\", \"Elemental\"],\n",
    "    \"Year\": [\"2023\", \"2004\", \"2018\", \"2023\"],\n",
    "    \"Ratings\": [7.0, 6.6, 6.4, 7.0],\n",
    "    \"Box Office\": [432500000, 314000000, 526760000, 154000000]\n",
    "}\n",
    "pop=pd.DataFrame(df)\n",
    "print(pop)\n",
    "print(\"All box office earnings sum is \", sum(df['Box Office']))\n",
    "print(\"The Highest Rated movie is \", max(df['Ratings']))"
   ]
  },
  {
   "cell_type": "code",
   "execution_count": 11,
   "id": "b4b9d6e0",
   "metadata": {},
   "outputs": [
    {
     "name": "stdout",
     "output_type": "stream",
     "text": [
      "            Food  Calories  Fat Content  Protein\n",
      "0          Pizza       180        11.30     2.87\n",
      "1          Sushi       170         5.37     5.37\n",
      "2           Taco       210        27.00    23.00\n",
      "3  Cheese Fondue       120         6.00     3.00\n",
      "The food with the lowest calories is Cheese Fondue, None\n",
      "The average protein content is  8.56 grams.\n"
     ]
    }
   ],
   "source": [
    "import pandas as pd\n",
    "\n",
    "calories=[180,170,210,120]\n",
    "fat_content=[11.30,5.37,27.00,6.00]\n",
    "protein=[2.87,5.37,23.00,3.00]\n",
    "\n",
    "food={\n",
    "    \"Pizza\":180,\n",
    "    \"Sushi\":170,\n",
    "    \"Taco\":210,\n",
    "    \"Cheese Fondue\":120,\n",
    "}\n",
    "\n",
    "fp={\n",
    "    \"Pizza\":2.87,\n",
    "    \"Sushi\":5.37,\n",
    "    \"Taco\":23.00,\n",
    "    \"Cheese Fondue\":3.00,\n",
    "}\n",
    "\n",
    "df_food=pd.DataFrame(list(food.items()), columns=[\"Food\", \"Calories\"])\n",
    "df=pd.DataFrame({\"Food\": df_food[\"Food\"], \"Calories\": calories, \"Fat Content\": fat_content,\"Protein\":protein })\n",
    "print(df)\n",
    "\n",
    "df_fp = pd.DataFrame(list(food.items()), columns=[\"Food\", \"Protein\"])\n",
    "def get_calory(dictionary, target_value):\n",
    "    for key, value in dictionary.items():\n",
    "        if value==target_value:\n",
    "            return(\"The food with the lowest calories is \" +key+ \",\")\n",
    "\n",
    "        \n",
    "def get_protein(dictionary, target_value):\n",
    "    for key, value in dictionary.items():\n",
    "        if value==target_value:\n",
    "            return(\"The food with the lowest protein is \" +key+ \",\")\n",
    "\n",
    "\n",
    "target_v=min(protein)\n",
    "target_v=min(calories)\n",
    "result=get_calory(food, target_v)\n",
    "result1=get_protein(fp, target_v)\n",
    "print(result,result1)\n",
    "print(\"The average protein content is \", sum(protein)/len(protein), \"grams.\")\n",
    "    "
   ]
  },
  {
   "cell_type": "code",
   "execution_count": null,
   "id": "2fe95af1",
   "metadata": {},
   "outputs": [],
   "source": []
  },
  {
   "cell_type": "code",
   "execution_count": null,
   "id": "30c92d82",
   "metadata": {},
   "outputs": [],
   "source": [
    "import matplotlib.pyplot as mpt\n",
    "\n",
    "population:{'Asia':}"
   ]
  }
 ],
 "metadata": {
  "kernelspec": {
   "display_name": "Python 3 (ipykernel)",
   "language": "python",
   "name": "python3"
  },
  "language_info": {
   "codemirror_mode": {
    "name": "ipython",
    "version": 3
   },
   "file_extension": ".py",
   "mimetype": "text/x-python",
   "name": "python",
   "nbconvert_exporter": "python",
   "pygments_lexer": "ipython3",
   "version": "3.11.5"
  }
 },
 "nbformat": 4,
 "nbformat_minor": 5
}
