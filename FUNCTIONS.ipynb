{
 "cells": [
  {
   "cell_type": "markdown",
   "id": "33ee628e",
   "metadata": {},
   "source": [
    "Greeting Card generator without functions"
   ]
  },
  {
   "cell_type": "code",
   "execution_count": null,
   "id": "f9b20bd5",
   "metadata": {
    "scrolled": true
   },
   "outputs": [
    {
     "name": "stdout",
     "output_type": "stream",
     "text": [
      "Welcome to your greeting generator.\n",
      "Choose a greeting type:\n",
      "1. Birthday Greeting\n",
      "2. Thank you Greeting\n",
      "3. Exit\n"
     ]
    }
   ],
   "source": [
    " print(\"Welcome to your greeting generator.\")\n",
    "\n",
    "while True:\n",
    "    print(\"Choose a greeting type:\")\n",
    "    print(\"1. Birthday Greeting\")\n",
    "    print(\"2. Thank you Greeting\")\n",
    "    print(\"3. Exit\")\n",
    "    \n",
    "    choice = int(input(\"Enter your choice (1-3)\"))\n",
    "    \n",
    "    if choice == 1:\n",
    "        print(\"Happy birthday..\")\n",
    "        print(\"Your really old now\")\n",
    "\n",
    "    elif choice == 2:\n",
    "        print(\"Thank you for your wishes\")\n",
    "        print(\"John Cena\")\n",
    "    \n",
    "    elif choice == 3:\n",
    "        print(\"Exiting the greeting generator.\")\n",
    "        print(\"You wasted your time and mine so get out.\")\n",
    "        break\n",
    "        \n",
    "    else:\n",
    "        print(\"Invalid choice cause you are a dummy. Try again when you get a higher IQ\")\n",
    "        \n",
    "        "
   ]
  },
  {
   "cell_type": "markdown",
   "id": "32c68e0f",
   "metadata": {},
   "source": [
    "Greeting generator with functions"
   ]
  },
  {
   "cell_type": "code",
   "execution_count": 16,
   "id": "24fe0de5",
   "metadata": {},
   "outputs": [
    {
     "name": "stdout",
     "output_type": "stream",
     "text": [
      "Welcome to the Greeting generator\n",
      "Choose a card type:\n",
      "1. Birthday Greeting\n",
      "2. Thank you Greeting\n",
      "3. Exit\n"
     ]
    },
    {
     "ename": "KeyboardInterrupt",
     "evalue": "Interrupted by user",
     "output_type": "error",
     "traceback": [
      "\u001b[1;31m---------------------------------------------------------------------------\u001b[0m",
      "\u001b[1;31mKeyboardInterrupt\u001b[0m                         Traceback (most recent call last)",
      "Cell \u001b[1;32mIn[16], line 18\u001b[0m\n\u001b[0;32m     15\u001b[0m \u001b[38;5;28mprint\u001b[39m(\u001b[38;5;124m\"\u001b[39m\u001b[38;5;124m2. Thank you Greeting\u001b[39m\u001b[38;5;124m\"\u001b[39m)\n\u001b[0;32m     16\u001b[0m \u001b[38;5;28mprint\u001b[39m(\u001b[38;5;124m\"\u001b[39m\u001b[38;5;124m3. Exit\u001b[39m\u001b[38;5;124m\"\u001b[39m)\n\u001b[1;32m---> 18\u001b[0m choice \u001b[38;5;241m=\u001b[39m \u001b[38;5;28mint\u001b[39m(\u001b[38;5;28minput\u001b[39m(\u001b[38;5;124m\"\u001b[39m\u001b[38;5;124mEnter your choice(1-3): \u001b[39m\u001b[38;5;124m\"\u001b[39m))\n\u001b[0;32m     20\u001b[0m \u001b[38;5;28;01mif\u001b[39;00m choice \u001b[38;5;241m==\u001b[39m \u001b[38;5;241m1\u001b[39m:\n\u001b[0;32m     21\u001b[0m     generate_birthday_greeting()\n",
      "File \u001b[1;32m~\\anaconda3\\Lib\\site-packages\\ipykernel\\kernelbase.py:1202\u001b[0m, in \u001b[0;36mKernel.raw_input\u001b[1;34m(self, prompt)\u001b[0m\n\u001b[0;32m   1200\u001b[0m     msg \u001b[38;5;241m=\u001b[39m \u001b[38;5;124m\"\u001b[39m\u001b[38;5;124mraw_input was called, but this frontend does not support input requests.\u001b[39m\u001b[38;5;124m\"\u001b[39m\n\u001b[0;32m   1201\u001b[0m     \u001b[38;5;28;01mraise\u001b[39;00m StdinNotImplementedError(msg)\n\u001b[1;32m-> 1202\u001b[0m \u001b[38;5;28;01mreturn\u001b[39;00m \u001b[38;5;28mself\u001b[39m\u001b[38;5;241m.\u001b[39m_input_request(\n\u001b[0;32m   1203\u001b[0m     \u001b[38;5;28mstr\u001b[39m(prompt),\n\u001b[0;32m   1204\u001b[0m     \u001b[38;5;28mself\u001b[39m\u001b[38;5;241m.\u001b[39m_parent_ident[\u001b[38;5;124m\"\u001b[39m\u001b[38;5;124mshell\u001b[39m\u001b[38;5;124m\"\u001b[39m],\n\u001b[0;32m   1205\u001b[0m     \u001b[38;5;28mself\u001b[39m\u001b[38;5;241m.\u001b[39mget_parent(\u001b[38;5;124m\"\u001b[39m\u001b[38;5;124mshell\u001b[39m\u001b[38;5;124m\"\u001b[39m),\n\u001b[0;32m   1206\u001b[0m     password\u001b[38;5;241m=\u001b[39m\u001b[38;5;28;01mFalse\u001b[39;00m,\n\u001b[0;32m   1207\u001b[0m )\n",
      "File \u001b[1;32m~\\anaconda3\\Lib\\site-packages\\ipykernel\\kernelbase.py:1245\u001b[0m, in \u001b[0;36mKernel._input_request\u001b[1;34m(self, prompt, ident, parent, password)\u001b[0m\n\u001b[0;32m   1242\u001b[0m \u001b[38;5;28;01mexcept\u001b[39;00m \u001b[38;5;167;01mKeyboardInterrupt\u001b[39;00m:\n\u001b[0;32m   1243\u001b[0m     \u001b[38;5;66;03m# re-raise KeyboardInterrupt, to truncate traceback\u001b[39;00m\n\u001b[0;32m   1244\u001b[0m     msg \u001b[38;5;241m=\u001b[39m \u001b[38;5;124m\"\u001b[39m\u001b[38;5;124mInterrupted by user\u001b[39m\u001b[38;5;124m\"\u001b[39m\n\u001b[1;32m-> 1245\u001b[0m     \u001b[38;5;28;01mraise\u001b[39;00m \u001b[38;5;167;01mKeyboardInterrupt\u001b[39;00m(msg) \u001b[38;5;28;01mfrom\u001b[39;00m \u001b[38;5;28;01mNone\u001b[39;00m\n\u001b[0;32m   1246\u001b[0m \u001b[38;5;28;01mexcept\u001b[39;00m \u001b[38;5;167;01mException\u001b[39;00m:\n\u001b[0;32m   1247\u001b[0m     \u001b[38;5;28mself\u001b[39m\u001b[38;5;241m.\u001b[39mlog\u001b[38;5;241m.\u001b[39mwarning(\u001b[38;5;124m\"\u001b[39m\u001b[38;5;124mInvalid Message:\u001b[39m\u001b[38;5;124m\"\u001b[39m, exc_info\u001b[38;5;241m=\u001b[39m\u001b[38;5;28;01mTrue\u001b[39;00m)\n",
      "\u001b[1;31mKeyboardInterrupt\u001b[0m: Interrupted by user"
     ]
    }
   ],
   "source": [
    "def generate_birthday_greeting():\n",
    "    print(\"Happy birthday..\")\n",
    "    print(\"Your really old now\")\n",
    "\n",
    "def generate_thank_you_greeting():\n",
    "    print(\"Thank you for your wishes\")\n",
    "    print(\"John Cena\")\n",
    "    \n",
    "\n",
    "print(\"Welcome to the Greeting generator\")\n",
    "\n",
    "while True:\n",
    "    print(\"Choose a card type:\")\n",
    "    print(\"1. Birthday Greeting\")\n",
    "    print(\"2. Thank you Greeting\")\n",
    "    print(\"3. Exit\")\n",
    "    \n",
    "    choice = int(input(\"Enter your choice(1-3): \"))\n",
    "    \n",
    "    if choice == 1:\n",
    "        generate_birthday_greeting()\n",
    "    elif choice == 2:\n",
    "        generate_thank_you_greeting()\n",
    "    elif choice == 3:\n",
    "        print(\"Exiting the greeting generator.\")\n",
    "        print(\"You wasted your time and mine so get out.\")\n",
    "        break\n",
    "    else:\n",
    "        print(\"Invalid choice cause you are a dummy. Try again when you get a higher IQ\")"
   ]
  },
  {
   "cell_type": "code",
   "execution_count": 33,
   "id": "fa3fd20c",
   "metadata": {
    "scrolled": true
   },
   "outputs": [
    {
     "name": "stdout",
     "output_type": "stream",
     "text": [
      "John Cena is ready to fight dummies and sus peoples.\n"
     ]
    }
   ],
   "source": [
    "def john_cena():\n",
    "    print(\"John Cena is ready to fight dummies and sus peoples.\")\n",
    "\n",
    "# calling the function\n",
    "john_cena()"
   ]
  },
  {
   "cell_type": "code",
   "execution_count": 34,
   "id": "bb26daf1",
   "metadata": {},
   "outputs": [
    {
     "name": "stdout",
     "output_type": "stream",
     "text": [
      "John Cena is ready to fly....................\n"
     ]
    }
   ],
   "source": [
    "def john_cena_flying():\n",
    "    print(\"John Cena is ready to fly....................\")\n",
    "\n",
    "# calling the function \n",
    "john_cena_flying()"
   ]
  },
  {
   "cell_type": "code",
   "execution_count": 35,
   "id": "a2fce204",
   "metadata": {},
   "outputs": [
    {
     "name": "stdout",
     "output_type": "stream",
     "text": [
      "John Cena is shutting down.\n"
     ]
    }
   ],
   "source": [
    "def john_cena_shutdown():\n",
    "    print(\"John Cena is shutting down.\")\n",
    "\n",
    "# calling the function\n",
    "john_cena_shutdown()"
   ]
  },
  {
   "cell_type": "code",
   "execution_count": 36,
   "id": "23ca0d34",
   "metadata": {},
   "outputs": [
    {
     "name": "stdout",
     "output_type": "stream",
     "text": [
      "And his name is JOHN CENA!!!!!\n"
     ]
    }
   ],
   "source": [
    "def john_cena_startup():\n",
    "    print(\"And his name is JOHN CENA!!!!!\")\n",
    "    \n",
    "# calling the function\n",
    "john_cena_startup() "
   ]
  },
  {
   "cell_type": "code",
   "execution_count": 44,
   "id": "525543a9",
   "metadata": {
    "scrolled": true
   },
   "outputs": [
    {
     "name": "stdout",
     "output_type": "stream",
     "text": [
      "Enter the mission description:blah blah blah\n",
      "John Cena, your mission is to blah blah blah!!\n"
     ]
    }
   ],
   "source": [
    " def mission_briefing(mission):\n",
    "        return \"John Cena, your mission is to \" + mission + \"!!\"\n",
    "    \n",
    "    \n",
    "mission_description = input(\"Enter the mission description:\")\n",
    "\n",
    "briefing_message = mission_briefing(mission_description)\n",
    "\n",
    "# Display the result\n",
    "print(briefing_message)"
   ]
  },
  {
   "cell_type": "code",
   "execution_count": 52,
   "id": "61f2855f",
   "metadata": {
    "scrolled": false
   },
   "outputs": [
    {
     "name": "stdout",
     "output_type": "stream",
     "text": [
      "Enter your Didi name: Ayaani\n",
      "Enter Mission: random\n",
      "Enter mission details: rando,\n",
      "Ayaani, your mission is to random - rando,. Good Luck\n"
     ]
    }
   ],
   "source": [
    "def mission_briefing(Didi, mission, mission_description):\n",
    "    return Didi+\", your mission is to \" +mission+\" - \"+mission_description+\". Good Luck\"\n",
    "Didi_name = input(\"Enter your Didi name: \")\n",
    "specific_mission = input(\"Enter Mission: \")\n",
    "mission_details = input(\"Enter mission details: \")\n",
    "\n",
    "briefing_message = mission_briefing(Didi_name, specific_mission, mission_details)\n",
    "\n",
    "# Display the result\n",
    "print(briefing_message)"
   ]
  },
  {
   "cell_type": "code",
   "execution_count": 1,
   "id": "6727d726",
   "metadata": {},
   "outputs": [
    {
     "name": "stdout",
     "output_type": "stream",
     "text": [
      "The days of the week are Monday, Tuesday, Wednesday, Thursday, Friday, Saturday and Sunday\n"
     ]
    }
   ],
   "source": [
    "def days_of_the_week():\n",
    "    print(\"The days of the week are Monday, Tuesday, Wednesday, Thursday, Friday, Saturday and Sunday.\")\n",
    "\n",
    "    \n",
    "days_of_the_week()\n"
   ]
  },
  {
   "cell_type": "code",
   "execution_count": 11,
   "id": "9777b448",
   "metadata": {
    "scrolled": false
   },
   "outputs": [
    {
     "name": "stdout",
     "output_type": "stream",
     "text": [
      "The planets of the solar system are: ['Mercury ', 'Venus ', 'Earth ', 'Mars ', 'Jupiter ', 'Saturn ', 'Uranus ', 'Neptune '] .\n"
     ]
    }
   ],
   "source": [
    "planets=[\"Mercury \",\"Venus \",\"Earth \",\"Mars \", \"Jupiter \", \"Saturn \", \"Uranus \", \"Neptune \"]\n",
    "def planets_universe(planets):\n",
    "    print(\"The planets of the solar system are:\", planets,\".\")\n",
    "    \n",
    "planets_universe(planets)\n"
   ]
  },
  {
   "cell_type": "code",
   "execution_count": 15,
   "id": "964fcf66",
   "metadata": {},
   "outputs": [
    {
     "name": "stdout",
     "output_type": "stream",
     "text": [
      "Enter your favourite colour: Lavender\n",
      "Your favourite colour is Lavender .\n"
     ]
    }
   ],
   "source": [
    "colour=str(input(\"Enter your favourite colour: \"))\n",
    "def favourite_colour(colour):\n",
    "    print(\"Your favourite colour is\", colour,\".\")\n",
    "    \n",
    "favourite_colour(colour)"
   ]
  },
  {
   "cell_type": "code",
   "execution_count": 7,
   "id": "4c128424",
   "metadata": {
    "scrolled": true
   },
   "outputs": [
    {
     "name": "stdout",
     "output_type": "stream",
     "text": [
      "The average of this list is:  5.2\n"
     ]
    }
   ],
   "source": [
    "numbers=[2,5,9,2,8]\n",
    "\n",
    "average=sum(numbers)/len(numbers)\n",
    "print(\"The average of this list is: \", average)\n",
    "\n",
    "\n",
    "\n",
    "        \n"
   ]
  },
  {
   "cell_type": "code",
   "execution_count": null,
   "id": "2d3ce56f",
   "metadata": {},
   "outputs": [],
   "source": [
    "pizzas=int(input(\"Pls enter the no of pizzas you want(100$ per pizza).\"))"
   ]
  }
 ],
 "metadata": {
  "kernelspec": {
   "display_name": "Python 3 (ipykernel)",
   "language": "python",
   "name": "python3"
  },
  "language_info": {
   "codemirror_mode": {
    "name": "ipython",
    "version": 3
   },
   "file_extension": ".py",
   "mimetype": "text/x-python",
   "name": "python",
   "nbconvert_exporter": "python",
   "pygments_lexer": "ipython3",
   "version": "3.11.5"
  }
 },
 "nbformat": 4,
 "nbformat_minor": 5
}
