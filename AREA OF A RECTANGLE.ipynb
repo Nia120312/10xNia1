{
 "cells": [
  {
   "cell_type": "code",
   "execution_count": 1,
   "id": "f4342756",
   "metadata": {},
   "outputs": [
    {
     "name": "stdout",
     "output_type": "stream",
     "text": [
      "Enter Length of Rectangle 8\n",
      "Enter Breadth of Rectangle 2\n",
      "THE AREA OF THE RECTANGLE IS 16.0\n"
     ]
    }
   ],
   "source": [
    "length = float(input(\"Enter Length of Rectangle \"))\n",
    "breadth = float(input(\"Enter Breadth of Rectangle \"))\n",
    "area = length * breadth\n",
    "print(f\"THE AREA OF THE RECTANGLE IS {area}\")"
   ]
  },
  {
   "cell_type": "code",
   "execution_count": null,
   "id": "5c5933d4",
   "metadata": {},
   "outputs": [],
   "source": []
  }
 ],
 "metadata": {
  "kernelspec": {
   "display_name": "Python 3 (ipykernel)",
   "language": "python",
   "name": "python3"
  },
  "language_info": {
   "codemirror_mode": {
    "name": "ipython",
    "version": 3
   },
   "file_extension": ".py",
   "mimetype": "text/x-python",
   "name": "python",
   "nbconvert_exporter": "python",
   "pygments_lexer": "ipython3",
   "version": "3.11.5"
  }
 },
 "nbformat": 4,
 "nbformat_minor": 5
}
