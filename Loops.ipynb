{
 "cells": [
  {
   "cell_type": "code",
   "execution_count": 11,
   "id": "5abd9eba",
   "metadata": {
    "scrolled": true
   },
   "outputs": [
    {
     "name": "stdout",
     "output_type": "stream",
     "text": [
      "Friday: Welcome, Nia!\n",
      "Friday: Welcome, Nia!\n",
      "Friday: Welcome, Nia!\n"
     ]
    }
   ],
   "source": [
    "# Friday Greeting\n",
    "for x in range(3):\n",
    "    print(\"Friday: Welcome, Nia!\")"
   ]
  },
  {
   "cell_type": "code",
   "execution_count": 14,
   "id": "1181ecd6",
   "metadata": {
    "scrolled": false
   },
   "outputs": [
    {
     "name": "stdout",
     "output_type": "stream",
     "text": [
      "Arcee has fired repulsor blast # 1 .\n",
      "Arcee has fired repulsor blast # 2 .\n",
      "Arcee has fired repulsor blast # 3 .\n",
      "Arcee has fired repulsor blast # 4 .\n",
      "Arcee has fired repulsor blast # 5 .\n"
     ]
    }
   ],
   "source": [
    "# Repulsor Blast Sequence\n",
    "for blast_number in range(1, 6):\n",
    "    print(\"Arcee has fired repulsor blast #\",blast_number,\".\")"
   ]
  },
  {
   "cell_type": "code",
   "execution_count": 22,
   "id": "e78cad59",
   "metadata": {},
   "outputs": [
    {
     "name": "stdout",
     "output_type": "stream",
     "text": [
      "Arcee's Flight Path: \n",
      "1.Transwarp Key\n",
      "2.Cybertron\n",
      "3.Mirage\n",
      "4.Peru\n",
      "5.Maximals\n",
      "6.Optimus Prime\n"
     ]
    }
   ],
   "source": [
    "# FLight Path Display\n",
    "flight_path = [\"1.Transwarp Key\", \"2.Cybertron\", \"3.Mirage\", \"4.Peru\", \"5.Maximals\", \"6.Optimus Prime\"]\n",
    "\n",
    "print(\"Arcee's Flight Path: \")\n",
    "for location in flight_path:\n",
    "    print(location)"
   ]
  },
  {
   "cell_type": "code",
   "execution_count": 30,
   "id": "268328ae",
   "metadata": {
    "scrolled": false
   },
   "outputs": [
    {
     "name": "stdout",
     "output_type": "stream",
     "text": [
      "Initiating Arcee's upgrade sequence:\n",
      "Upgrade in  5 seconds ...\n",
      "Upgrade in  4 seconds ...\n",
      "Upgrade in  3 seconds ...\n",
      "Upgrade in  2 seconds ...\n",
      "Upgrade in  1 seconds ...\n",
      "Upgrade complete. Arcee is now at maximum efficiency.\n"
     ]
    }
   ],
   "source": [
    "# Arcee Upgrade Countdown\n",
    "print(\"Initiating Arcee's upgrade sequence:\")\n",
    "\n",
    "for seconds in range(5, 0, -1):\n",
    "    print(\"Upgrade in \" ,seconds, \"seconds ...\")\n",
    "    \n",
    "print(\"Upgrade complete. Arcee is now at maximum efficiency.\")\n",
    "    "
   ]
  },
  {
   "cell_type": "code",
   "execution_count": null,
   "id": "fa162376",
   "metadata": {},
   "outputs": [],
   "source": []
  }
 ],
 "metadata": {
  "kernelspec": {
   "display_name": "Python 3 (ipykernel)",
   "language": "python",
   "name": "python3"
  },
  "language_info": {
   "codemirror_mode": {
    "name": "ipython",
    "version": 3
   },
   "file_extension": ".py",
   "mimetype": "text/x-python",
   "name": "python",
   "nbconvert_exporter": "python",
   "pygments_lexer": "ipython3",
   "version": "3.11.5"
  }
 },
 "nbformat": 4,
 "nbformat_minor": 5
}
