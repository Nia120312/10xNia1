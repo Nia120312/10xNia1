{
 "cells": [
  {
   "cell_type": "code",
   "execution_count": 4,
   "id": "44e7ce4c",
   "metadata": {},
   "outputs": [
    {
     "name": "stdout",
     "output_type": "stream",
     "text": [
      "F.R.I.D.A.Y Welcomes You\n",
      "Enter Your NAMEnia\n",
      "nia\n",
      "What is your age?11\n",
      "11\n",
      "Enter your flight capacityfals\n",
      "fals\n",
      "What is your alter ego?random\n",
      "random\n",
      "What is your percentage of happiness3536\n",
      "3536\n"
     ]
    }
   ],
   "source": [
    "print(\"F.R.I.D.A.Y Welcomes You\")\n",
    "user_name = input(\"Enter Your NAME\")\n",
    "print(user_name)\n",
    "age = input(\"What is your age?\")\n",
    "print(age)\n",
    "flight_capacity = input(\"Enter your flight capacity\")\n",
    "print(flight_capacity)\n",
    "alter_ego = input(\"What is your alter ego?\")\n",
    "print(alter_ego)\n",
    "percentage_of_happiness = input(\"What is your percentage of happiness\")\n",
    "print(percentage_of_happiness)\n",
    "\n"
   ]
  },
  {
   "cell_type": "code",
   "execution_count": 5,
   "id": "3f060d63",
   "metadata": {},
   "outputs": [
    {
     "data": {
      "text/plain": [
       "str"
      ]
     },
     "execution_count": 5,
     "metadata": {},
     "output_type": "execute_result"
    }
   ],
   "source": [
    "type(user_name)"
   ]
  },
  {
   "cell_type": "code",
   "execution_count": 6,
   "id": "b705aaf3",
   "metadata": {},
   "outputs": [
    {
     "data": {
      "text/plain": [
       "str"
      ]
     },
     "execution_count": 6,
     "metadata": {},
     "output_type": "execute_result"
    }
   ],
   "source": [
    "type(age)"
   ]
  },
  {
   "cell_type": "code",
   "execution_count": 7,
   "id": "cb677f8f",
   "metadata": {},
   "outputs": [
    {
     "data": {
      "text/plain": [
       "str"
      ]
     },
     "execution_count": 7,
     "metadata": {},
     "output_type": "execute_result"
    }
   ],
   "source": [
    "type(flight_capacity)"
   ]
  },
  {
   "cell_type": "code",
   "execution_count": 8,
   "id": "1000e6c9",
   "metadata": {},
   "outputs": [
    {
     "data": {
      "text/plain": [
       "str"
      ]
     },
     "execution_count": 8,
     "metadata": {},
     "output_type": "execute_result"
    }
   ],
   "source": [
    "type(alter_ego)"
   ]
  },
  {
   "cell_type": "code",
   "execution_count": 9,
   "id": "9271df52",
   "metadata": {},
   "outputs": [
    {
     "data": {
      "text/plain": [
       "str"
      ]
     },
     "execution_count": 9,
     "metadata": {},
     "output_type": "execute_result"
    }
   ],
   "source": [
    "type(percentage_of_happiness)"
   ]
  }
 ],
 "metadata": {
  "kernelspec": {
   "display_name": "Python 3 (ipykernel)",
   "language": "python",
   "name": "python3"
  },
  "language_info": {
   "codemirror_mode": {
    "name": "ipython",
    "version": 3
   },
   "file_extension": ".py",
   "mimetype": "text/x-python",
   "name": "python",
   "nbconvert_exporter": "python",
   "pygments_lexer": "ipython3",
   "version": "3.11.5"
  }
 },
 "nbformat": 4,
 "nbformat_minor": 5
}
