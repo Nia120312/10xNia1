{
 "cells": [
  {
   "cell_type": "code",
   "execution_count": null,
   "id": "c5d83b20",
   "metadata": {
    "scrolled": true
   },
   "outputs": [],
   "source": [
    "responses={\n",
    "    \"hello\": \"Hi there!\",\n",
    "    \"how are you\": \"I'm a computer program but thank you for asking.\",\n",
    "    \"who are you\": \"I'm your friendly assistant, F.R.I.D.A.Y!\",\n",
    "    \"nia\": \"Nia is the creator of this program.\",\n",
    "    \"bye\": \"Goodbye! See you later!\"\n",
    "}\n",
    "print(\"F.R.I.D.A.Y: Hi there! How can I help you?\")\n",
    "while True:\n",
    "    mah_input = input(\"You: \").lower()\n",
    "    if mah_input == \"bye\":\n",
    "        print(\"F.R.I.D.A.Y: Goodbye! See you later!\")\n",
    "        break\n",
    "    friday_says =str(responses[mah_input])\n",
    "    print(\"F.R.I.D.A.Y:\", friday_says)"
   ]
  },
  {
   "cell_type": "markdown",
   "id": "5f4fe99a",
   "metadata": {},
   "source": [
    "parameter is a value taken from user"
   ]
  },
  {
   "cell_type": "code",
   "execution_count": null,
   "id": "8aaea211",
   "metadata": {},
   "outputs": [],
   "source": [
    "responses={\n",
    "    \"hello\": \"Hi there!\",\n",
    "    \"how are you\": \"I'm a computer program but thank you for asking.\",\n",
    "    \"who are you\": \"I'm your friendly assistant, F.R.I.D.A.Y!\",\n",
    "    \"nia\": \"Nia is the creator of this program.\",\n",
    "    \"bye\": \"Goodbye! See you later!\"\n",
    "}\n",
    "\n",
    " def get_friday_response(mah_input):\n",
    "    response=responses.get(mah_input, \"Im not sure how to respond to that.\")\n",
    "    return response\n",
    "\n",
    "\n",
    "def start_chat():\n",
    "    print(\"F.R.I.D.A.Y: Hi there! How can I help you?\")\n",
    "while True:\n",
    "    mah_input = input(\"You: \").lower()\n",
    "    if mah_input == \"bye\":\n",
    "        print(\"F.R.I.D.A.Y: Goodbye! See you later!\")\n",
    "        break\n",
    "\n",
    "    friday_says = get_friday_response(mah_input)\n",
    "    print(\"F.R.I.D.A.Y:\", friday_says)\n",
    "    \n",
    "\n",
    "\n",
    "start_chat()"
   ]
  },
  {
   "cell_type": "code",
   "execution_count": null,
   "id": "82dfa859",
   "metadata": {
    "scrolled": true
   },
   "outputs": [],
   "source": [
    "\n",
    "pip install python-espeak\n"
   ]
  },
  {
   "cell_type": "code",
   "execution_count": 1,
   "id": "cd8c1d01",
   "metadata": {},
   "outputs": [
    {
     "name": "stdout",
     "output_type": "stream",
     "text": [
      "F.R.I.D.A.Y: Hi there! How can I help you?\n",
      "You: bye\n"
     ]
    }
   ],
   "source": [
    "import pyttsx3 as py\n",
    "\n",
    "engine = py.init()\n",
    "responses={\n",
    "    \"hello\": \"Hi there!\",\n",
    "    \"how are you\": \"I'm a computer program but thank you for asking.\",\n",
    "    \"who are you\": \"I'm your friendly assistant, F.R.I.D.A.Y!\",\n",
    "    \"nia\": \"Nia is the creator of this program.\",\n",
    "    \"bye\": \"Goodbye! See you later!\"\n",
    "}\n",
    "\n",
    "def get_friday_response(mah_input):\n",
    "    response=responses.get(mah_input, \"Im not sure how to respond to that.\")\n",
    "    return response\n",
    "\n",
    "rate=engine.getProperty('rate')\n",
    "engine.setProperty('rate', rate - 40)\n",
    "\n",
    "def start_chat():\n",
    "    print(\"F.R.I.D.A.Y: Hi there! How can I help you?\")\n",
    "    while True:\n",
    "        mah_input =input(\"You: \").lower()\n",
    "        if mah_input == \"bye\":\n",
    "            engine.say(\"Look who we are, we are the dreamersWe make it happen 'cause we believe itLook who we are, we are the dreamersWe make it happen 'cause we can see itHere's to the ones that keep the passionRespect, oh, yeaHere's to the ones that can imagineRespect, oh, yeah\")\n",
    "            engine.runAndWait() \n",
    "            break\n",
    "        response = get_friday_response(mah_input)\n",
    "        engine.say(response)\n",
    "        engine.runAndWait()\n",
    "    \n",
    "    \n",
    "start_chat()"
   ]
  },
  {
   "cell_type": "code",
   "execution_count": null,
   "id": "04616f99",
   "metadata": {},
   "outputs": [],
   "source": []
  },
  {
   "cell_type": "code",
   "execution_count": null,
   "id": "bfc974f3",
   "metadata": {},
   "outputs": [],
   "source": []
  }
 ],
 "metadata": {
  "kernelspec": {
   "display_name": "Python 3 (ipykernel)",
   "language": "python",
   "name": "python3"
  },
  "language_info": {
   "codemirror_mode": {
    "name": "ipython",
    "version": 3
   },
   "file_extension": ".py",
   "mimetype": "text/x-python",
   "name": "python",
   "nbconvert_exporter": "python",
   "pygments_lexer": "ipython3",
   "version": "3.11.5"
  }
 },
 "nbformat": 4,
 "nbformat_minor": 5
}
